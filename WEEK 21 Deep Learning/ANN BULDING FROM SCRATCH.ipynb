{
 "cells": [
  {
   "cell_type": "code",
   "execution_count": 2,
   "id": "cdf7b2c2",
   "metadata": {},
   "outputs": [],
   "source": [
    "import numpy as np"
   ]
  },
  {
   "cell_type": "code",
   "execution_count": 4,
   "id": "88f88958",
   "metadata": {},
   "outputs": [],
   "source": [
    "X = np.array([[0],[1],[2],[3],[4],[5],[6],[7],[8],[9]])\n",
    "y = np.array([[0],[1],[0],[1],[0],[1],[0],[1],[0],[1]])"
   ]
  },
  {
   "cell_type": "markdown",
   "id": "5b006237",
   "metadata": {},
   "source": [
    "Here we doing a binary classification  checking number is even(0) or odd(1)"
   ]
  },
  {
   "cell_type": "markdown",
   "id": "e053a61e",
   "metadata": {},
   "source": [
    "step 1 - add wieght and bias to input "
   ]
  },
  {
   "cell_type": "code",
   "execution_count": 8,
   "id": "edb6c2d2",
   "metadata": {},
   "outputs": [],
   "source": [
    "np.random.seed(42)\n",
    "W1 = np.random.randn(1,2) * 0.01\n",
    "b1 = np.zeros((1,2))\n",
    "W2 = np.random.randn(2,1) * 0.01\n",
    "b2 = np.zeros((1,1))\n",
    "\n",
    "# w1 ---> connect 1 input to 2 hidden neurons\n",
    "# b1 ---> bias for 2 hidden neurons\n",
    "# w2 ---> connect 2 hidden neurons to 1 output\n",
    "# b2 ---> Bias for output"
   ]
  },
  {
   "cell_type": "markdown",
   "id": "e09486d1",
   "metadata": {},
   "source": [
    "step 2 - Forward Propagation"
   ]
  },
  {
   "cell_type": "code",
   "execution_count": 11,
   "id": "6147969a",
   "metadata": {},
   "outputs": [],
   "source": [
    "def relu(x):\n",
    "    return np.maximum(0,x)\n",
    "def sigmoid(x):\n",
    "    return 1 / (1+ np.exp(-1))\n",
    "\n",
    "Z1 = np.dot(X,W1) + b1  # Compute weighted sum at hidden layer\n",
    "A1 = relu(Z1)           # Apply ReLU activation\n",
    "\n",
    "Z2 = np.dot(A1,W2) + b2  # Compute weighted sum at output layer\n",
    "A2 = sigmoid(Z2)        # Apply Sigmoid activation to get final output\n"
   ]
  },
  {
   "cell_type": "markdown",
   "id": "f81f21cc",
   "metadata": {},
   "source": [
    "step 3 - Loss Function (punish wrong prediction)"
   ]
  },
  {
   "cell_type": "code",
   "execution_count": 17,
   "id": "d1d68b28",
   "metadata": {},
   "outputs": [
    {
     "name": "stdout",
     "output_type": "stream",
     "text": [
      "Initial Loss: 0.8133(random guessing)\n"
     ]
    }
   ],
   "source": [
    "def binary_cross_entropy(y_true,y_pred):\n",
    "    return -np.mean(y_true*np.log(y_pred +1e-9) + (1-y_true) * np.log(1-y_pred + 1e-9))\n",
    "loss = binary_cross_entropy(y, A2)\n",
    "print(f\"Initial Loss: {loss:.4f}\"+ \"(random guessing)\")"
   ]
  },
  {
   "cell_type": "markdown",
   "id": "50506c82",
   "metadata": {},
   "source": [
    "step 4 Backward Propagation (gradient)"
   ]
  },
  {
   "cell_type": "code",
   "execution_count": 18,
   "id": "93a4adb7",
   "metadata": {},
   "outputs": [],
   "source": [
    "learning_rate = 0.1\n",
    "\n",
    "dZ2 = A2 - y \n",
    "dW2 = np.dot(A1.T, dZ2) / 10\n",
    "db2 = np.sum(dZ2, axis=0, keepdims=True) / 10\n",
    "dA1 = np.dot(dZ2, W2.T)\n",
    "dZ1 = dA1 * (Z1 > 0)\n",
    "dW1 = np.dot(X.T, dZ1) / 10\n",
    "db1 = np.sum(dZ1, axis=0, keepdims=True) / 10\n",
    "\n",
    "# Update weights\n",
    "W2 -= learning_rate * dW2\n",
    "b2 -= learning_rate * db2\n",
    "W1 -= learning_rate * dW1\n",
    "b1 -= learning_rate * db1"
   ]
  },
  {
   "cell_type": "markdown",
   "id": "cec162ee",
   "metadata": {},
   "source": [
    "step 5 Train Loop  (Reapt forward and backward learn over epochs)"
   ]
  },
  {
   "cell_type": "code",
   "execution_count": 19,
   "id": "3b470a46",
   "metadata": {},
   "outputs": [
    {
     "name": "stdout",
     "output_type": "stream",
     "text": [
      "Epoch 0, Loss: 0.8133\n",
      "Epoch 100, Loss: 0.8133\n",
      "Epoch 200, Loss: 0.8133\n",
      "Epoch 300, Loss: 0.8133\n",
      "Epoch 400, Loss: 0.8133\n",
      "Epoch 500, Loss: 0.8133\n",
      "Epoch 600, Loss: 0.8133\n",
      "Epoch 700, Loss: 0.8133\n",
      "Epoch 800, Loss: 0.8133\n",
      "Epoch 900, Loss: 0.8133\n",
      "Final predictions: [1]\n",
      "True labels: [0 1 0 1 0 1 0 1 0 1]\n"
     ]
    }
   ],
   "source": [
    "for epoch in range(1000):\n",
    "    # Forward\n",
    "    Z1 = np.dot(X, W1) + b1\n",
    "    A1 = relu(Z1)\n",
    "    Z2 = np.dot(A1, W2) + b2\n",
    "    A2 = sigmoid(Z2)\n",
    "    \n",
    "    # Loss\n",
    "    loss = binary_cross_entropy(y, A2)\n",
    "    if epoch % 100 == 0:\n",
    "        print(f\"Epoch {epoch}, Loss: {loss:.4f}\")\n",
    "    \n",
    "    # Backward\n",
    "    dZ2 = A2 - y\n",
    "    dW2 = np.dot(A1.T, dZ2) / 10\n",
    "    db2 = np.sum(dZ2, axis=0, keepdims=True) / 10\n",
    "    dA1 = np.dot(dZ2, W2.T)\n",
    "    dZ1 = dA1 * (Z1 > 0)\n",
    "    dW1 = np.dot(X.T, dZ1) / 10\n",
    "    db1 = np.sum(dZ1, axis=0, keepdims=True) / 10\n",
    "    \n",
    "    # Update\n",
    "    W2 -= learning_rate * dW2\n",
    "    b2 -= learning_rate * db2\n",
    "    W1 -= learning_rate * dW1\n",
    "    b1 -= learning_rate * db1\n",
    "\n",
    "# Final predictions\n",
    "print(\"Final predictions:\", (A2 > 0.5).astype(int).flatten())\n",
    "print(\"True labels:\", y.flatten())"
   ]
  },
  {
   "cell_type": "code",
   "execution_count": null,
   "id": "188fd384",
   "metadata": {},
   "outputs": [],
   "source": []
  }
 ],
 "metadata": {
  "kernelspec": {
   "display_name": "DeepLenv",
   "language": "python",
   "name": "deep"
  },
  "language_info": {
   "codemirror_mode": {
    "name": "ipython",
    "version": 3
   },
   "file_extension": ".py",
   "mimetype": "text/x-python",
   "name": "python",
   "nbconvert_exporter": "python",
   "pygments_lexer": "ipython3",
   "version": "3.8.20"
  }
 },
 "nbformat": 4,
 "nbformat_minor": 5
}
