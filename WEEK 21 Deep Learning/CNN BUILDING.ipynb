{
 "cells": [
  {
   "cell_type": "code",
   "execution_count": 50,
   "id": "0120f107",
   "metadata": {},
   "outputs": [],
   "source": [
    "import tensorflow as tf\n",
    "import numpy as np"
   ]
  },
  {
   "cell_type": "markdown",
   "id": "b7b344a1",
   "metadata": {},
   "source": [
    "Load Data"
   ]
  },
  {
   "cell_type": "code",
   "execution_count": 51,
   "id": "70e77693",
   "metadata": {},
   "outputs": [],
   "source": [
    "(x_train,y_train),(x_test,y_test) = tf.keras.datasets.mnist.load_data()"
   ]
  },
  {
   "cell_type": "code",
   "execution_count": 52,
   "id": "e13abad4",
   "metadata": {},
   "outputs": [
    {
     "data": {
      "text/plain": [
       "array([[[0, 0, 0, ..., 0, 0, 0],\n",
       "        [0, 0, 0, ..., 0, 0, 0],\n",
       "        [0, 0, 0, ..., 0, 0, 0],\n",
       "        ...,\n",
       "        [0, 0, 0, ..., 0, 0, 0],\n",
       "        [0, 0, 0, ..., 0, 0, 0],\n",
       "        [0, 0, 0, ..., 0, 0, 0]],\n",
       "\n",
       "       [[0, 0, 0, ..., 0, 0, 0],\n",
       "        [0, 0, 0, ..., 0, 0, 0],\n",
       "        [0, 0, 0, ..., 0, 0, 0],\n",
       "        ...,\n",
       "        [0, 0, 0, ..., 0, 0, 0],\n",
       "        [0, 0, 0, ..., 0, 0, 0],\n",
       "        [0, 0, 0, ..., 0, 0, 0]]], dtype=uint8)"
      ]
     },
     "execution_count": 52,
     "metadata": {},
     "output_type": "execute_result"
    }
   ],
   "source": [
    "x_train[:2]"
   ]
  },
  {
   "cell_type": "code",
   "execution_count": 53,
   "id": "a24b57f9",
   "metadata": {},
   "outputs": [
    {
     "name": "stdout",
     "output_type": "stream",
     "text": [
      "shape of x_train (60000, 28, 28)\n",
      "shape of y_train (60000,)\n"
     ]
    }
   ],
   "source": [
    "print(\"shape of x_train\",x_train.shape)\n",
    "print(\"shape of y_train\",y_train.shape)"
   ]
  },
  {
   "cell_type": "markdown",
   "id": "3b292b8d",
   "metadata": {},
   "source": [
    "Normilize pixel value to 0 to 1"
   ]
  },
  {
   "cell_type": "code",
   "execution_count": 54,
   "id": "6a031397",
   "metadata": {},
   "outputs": [],
   "source": [
    "x_train = x_train.astype('float32') / 255.0\n",
    "x_test  = x_test.astype('float32') / 255.0"
   ]
  },
  {
   "cell_type": "markdown",
   "id": "08c1af1f",
   "metadata": {},
   "source": [
    "Reshape the data we need add channel(like rgb)"
   ]
  },
  {
   "cell_type": "code",
   "execution_count": 55,
   "id": "0f71780e",
   "metadata": {},
   "outputs": [
    {
     "name": "stdout",
     "output_type": "stream",
     "text": [
      "Shape of X_train :  (60000, 28, 28, 1)\n"
     ]
    }
   ],
   "source": [
    "x_train = x_train.reshape(-1,28,28,1)\n",
    "x_test  = x_test.reshape(-1,28,28,1)\n",
    "\n",
    "print(\"Shape of X_train : \",x_train.shape)"
   ]
  },
  {
   "cell_type": "markdown",
   "id": "ef78c74c",
   "metadata": {},
   "source": [
    "### Building a CNN Model"
   ]
  },
  {
   "cell_type": "code",
   "execution_count": 56,
   "id": "8a86f9c3",
   "metadata": {},
   "outputs": [
    {
     "name": "stdout",
     "output_type": "stream",
     "text": [
      "Model build successfully...\n"
     ]
    }
   ],
   "source": [
    "model = tf.keras.Sequential([\n",
    "    tf.keras.layers.Input(shape=(28,28,1)),\n",
    "    tf.keras.layers.Conv2D(32,(3,3),activation='relu'), # 32 filter  3x3 size\n",
    "    tf.keras.layers.MaxPooling2D((2,2)), # reduxe size by half\n",
    "    tf.keras.layers.Flatten(), # convert to 1D\n",
    "    tf.keras.layers.Dense(128,activation='relu'),\n",
    "    tf.keras.layers.Dense(10,activation='softmax')\n",
    "    \n",
    "])\n",
    "\n",
    "print(\"Model build successfully...\")"
   ]
  },
  {
   "cell_type": "code",
   "execution_count": 57,
   "id": "ace80d98",
   "metadata": {},
   "outputs": [
    {
     "name": "stdout",
     "output_type": "stream",
     "text": [
      "Model: \"sequential_2\"\n",
      "_________________________________________________________________\n",
      "Layer (type)                 Output Shape              Param #   \n",
      "=================================================================\n",
      "conv2d_3 (Conv2D)            (None, 26, 26, 32)        320       \n",
      "_________________________________________________________________\n",
      "max_pooling2d_3 (MaxPooling2 (None, 13, 13, 32)        0         \n",
      "_________________________________________________________________\n",
      "flatten_3 (Flatten)          (None, 5408)              0         \n",
      "_________________________________________________________________\n",
      "dense_6 (Dense)              (None, 128)               692352    \n",
      "_________________________________________________________________\n",
      "dense_7 (Dense)              (None, 10)                1290      \n",
      "=================================================================\n",
      "Total params: 693,962\n",
      "Trainable params: 693,962\n",
      "Non-trainable params: 0\n",
      "_________________________________________________________________\n"
     ]
    }
   ],
   "source": [
    "model.summary()"
   ]
  },
  {
   "cell_type": "code",
   "execution_count": 58,
   "id": "a45025a1",
   "metadata": {},
   "outputs": [
    {
     "name": "stdout",
     "output_type": "stream",
     "text": [
      "Conv2d \n",
      "no.of wight = (height of filter x width of fil x no.of input channel x no.of filter ) + bias\n",
      "Conv2D Weight  (3x3x1x32) + bias =   320\n"
     ]
    }
   ],
   "source": [
    "print(\"Conv2d \\nno.of wight = (height of filter x width of fil x no.of input channel x no.of filter ) + bias\")\n",
    "bias = 32 # each filter 1 bias\n",
    "print(\"Conv2D Weight  (3x3x1x32) + bias =  \", 3*3*1*32 +bias)"
   ]
  },
  {
   "cell_type": "markdown",
   "id": "f1222a0e",
   "metadata": {},
   "source": [
    "###### lets compile apply lossfunc,optimizer,evalution metrics"
   ]
  },
  {
   "cell_type": "code",
   "execution_count": 59,
   "id": "a09e3d0f",
   "metadata": {},
   "outputs": [
    {
     "name": "stdout",
     "output_type": "stream",
     "text": [
      "Model Compiled\n"
     ]
    }
   ],
   "source": [
    "model.compile(\n",
    "loss ='sparse_categorical_crossentropy',\n",
    "optimizer = 'adam',\n",
    "metrics = ['accuracy']\n",
    ")\n",
    "\n",
    "print(\"Model Compiled....\")"
   ]
  },
  {
   "cell_type": "markdown",
   "id": "17957c3e",
   "metadata": {},
   "source": [
    "### Lets train our model"
   ]
  },
  {
   "cell_type": "code",
   "execution_count": 60,
   "id": "fe2a85e7",
   "metadata": {},
   "outputs": [
    {
     "name": "stdout",
     "output_type": "stream",
     "text": [
      "Epoch 1/5\n",
      "1875/1875 [==============================] - 31s 16ms/step - loss: 0.1452 - accuracy: 0.9572 - val_loss: 0.0594 - val_accuracy: 0.9798\n",
      "Epoch 2/5\n",
      "1875/1875 [==============================] - 28s 15ms/step - loss: 0.0515 - accuracy: 0.9840 - val_loss: 0.0502 - val_accuracy: 0.9828\n",
      "Epoch 3/5\n",
      "1875/1875 [==============================] - 28s 15ms/step - loss: 0.0331 - accuracy: 0.9894 - val_loss: 0.0457 - val_accuracy: 0.9844\n",
      "Epoch 4/5\n",
      "1875/1875 [==============================] - 29s 15ms/step - loss: 0.0210 - accuracy: 0.9934 - val_loss: 0.0445 - val_accuracy: 0.9859\n",
      "Epoch 5/5\n",
      "1875/1875 [==============================] - 30s 16ms/step - loss: 0.0146 - accuracy: 0.9953 - val_loss: 0.0457 - val_accuracy: 0.9866\n",
      "Training is completed\n"
     ]
    }
   ],
   "source": [
    "model.fit(x_train,y_train,epochs=5,batch_size=32,validation_data=(x_test,y_test),verbose=1)\n",
    "print(\"Training is completed\")"
   ]
  },
  {
   "cell_type": "markdown",
   "id": "43a7465e",
   "metadata": {},
   "source": [
    "What’s Happening:\n",
    "\n",
    "- Forward pass: Convolution → pooling → dense layers.\n",
    "- Backward pass: Gradients update filters and weights."
   ]
  },
  {
   "cell_type": "markdown",
   "id": "52515ca4",
   "metadata": {},
   "source": [
    "#### Lets Evaluate our Model "
   ]
  },
  {
   "cell_type": "code",
   "execution_count": 41,
   "id": "89e9e6f5",
   "metadata": {},
   "outputs": [],
   "source": [
    "test_loss,test_accuracy = model.evaluate(x_test,y_test,verbose=0)"
   ]
  },
  {
   "cell_type": "code",
   "execution_count": 49,
   "id": "f421a252",
   "metadata": {},
   "outputs": [
    {
     "name": "stdout",
     "output_type": "stream",
     "text": [
      "Test Loss     :  0.04262499883770943\n",
      "Test Accuracy :0.99 \n",
      "Model Predicted :  [7 2 1 0 4]\n",
      "Actual val      :  [7 2 1 0 4]\n"
     ]
    }
   ],
   "source": [
    "print(\"Test Loss     : \",test_loss)\n",
    "print(\"Test Accuracy :{:.2f} \".format(test_accuracy))\n",
    "\n",
    "pred = model.predict(x_test[:5])\n",
    "pred_label = np.argmax(pred,axis=1)\n",
    "\n",
    "print(\"Model Predicted : \",pred_label)\n",
    "print(\"Actual val      : \",y_test[:5])"
   ]
  },
  {
   "cell_type": "code",
   "execution_count": null,
   "id": "470b3fc5",
   "metadata": {},
   "outputs": [],
   "source": []
  }
 ],
 "metadata": {
  "kernelspec": {
   "display_name": "DeepLenv",
   "language": "python",
   "name": "deep"
  },
  "language_info": {
   "codemirror_mode": {
    "name": "ipython",
    "version": 3
   },
   "file_extension": ".py",
   "mimetype": "text/x-python",
   "name": "python",
   "nbconvert_exporter": "python",
   "pygments_lexer": "ipython3",
   "version": "3.8.20"
  }
 },
 "nbformat": 4,
 "nbformat_minor": 5
}
