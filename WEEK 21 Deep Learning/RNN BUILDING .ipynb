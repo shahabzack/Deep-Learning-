{
 "cells": [
  {
   "cell_type": "code",
   "execution_count": 1,
   "id": "2c58bb99",
   "metadata": {},
   "outputs": [],
   "source": [
    "import tensorflow as tf\n",
    "import numpy as np"
   ]
  },
  {
   "cell_type": "code",
   "execution_count": 2,
   "id": "81417d43",
   "metadata": {},
   "outputs": [
    {
     "name": "stdout",
     "output_type": "stream",
     "text": [
      "(25000,)\n"
     ]
    }
   ],
   "source": [
    "max_words = 10000 # select only mostly used words\n",
    "\n",
    "(x_train,y_train),(x_test,y_test) = tf.keras.datasets.imdb.load_data(num_words=max_words)\n",
    "\n",
    "print(x_train.shape)"
   ]
  },
  {
   "cell_type": "code",
   "execution_count": 3,
   "id": "0e86c61b",
   "metadata": {},
   "outputs": [
    {
     "name": "stdout",
     "output_type": "stream",
     "text": [
      "Sample Revies (data) : [1, 14, 22, 16, 43, 530, 973, 1622, 1385, 65]\n"
     ]
    }
   ],
   "source": [
    "print(\"Sample Revies (data) :\",x_train[0][:10])"
   ]
  },
  {
   "cell_type": "code",
   "execution_count": 4,
   "id": "c32c109e",
   "metadata": {},
   "outputs": [
    {
     "name": "stdout",
     "output_type": "stream",
     "text": [
      "Shape of x_train after pad :  (25000, 200)\n"
     ]
    }
   ],
   "source": [
    "max_len = 200  # setting 200 words per review     \n",
    "x_train = tf.keras.preprocessing.sequence.pad_sequences(x_train,maxlen=max_len,padding='post',truncating='post')\n",
    "x_test  = tf.keras.preprocessing.sequence.pad_sequences(x_test,maxlen=max_len,padding='post',truncating='post')\n",
    "\n",
    "# we done padding selected 200 words only\n",
    "\n",
    "print(\"Shape of x_train after pad : \",x_train.shape)"
   ]
  },
  {
   "cell_type": "code",
   "execution_count": 5,
   "id": "c9bc50cf",
   "metadata": {},
   "outputs": [
    {
     "name": "stdout",
     "output_type": "stream",
     "text": [
      "[   1   14   22   16   43  530  973 1622 1385   65  458 4468   66 3941\n",
      "    4  173   36  256    5   25  100   43  838  112   50  670    2    9\n",
      "   35  480  284    5  150    4  172  112  167    2  336  385   39    4\n",
      "  172 4536 1111   17  546   38   13  447    4  192   50   16    6  147\n",
      " 2025   19   14   22    4 1920 4613  469    4   22   71   87   12   16\n",
      "   43  530   38   76   15   13 1247    4   22   17  515   17   12   16\n",
      "  626   18    2    5   62  386   12    8  316    8  106    5    4 2223\n",
      " 5244   16  480   66 3785   33    4  130   12   16   38  619    5   25\n",
      "  124   51   36  135   48   25 1415   33    6   22   12  215   28   77\n",
      "   52    5   14  407   16   82    2    8    4  107  117 5952   15  256\n",
      "    4    2    7 3766    5  723   36   71   43  530  476   26  400  317\n",
      "   46    7    4    2 1029   13  104   88    4  381   15  297   98   32\n",
      " 2071   56   26  141    6  194 7486   18    4  226   22   21  134  476\n",
      "   26  480    5  144   30 5535   18   51   36   28  224   92   25  104\n",
      "    4  226   65   16]\n"
     ]
    }
   ],
   "source": [
    "print(x_train[0]) #review1"
   ]
  },
  {
   "cell_type": "markdown",
   "id": "95da03d1",
   "metadata": {},
   "source": [
    "### Lets Build RNN Model "
   ]
  },
  {
   "cell_type": "code",
   "execution_count": 6,
   "id": "692cf627",
   "metadata": {},
   "outputs": [
    {
     "name": "stdout",
     "output_type": "stream",
     "text": [
      "Model Build Completed...\n"
     ]
    }
   ],
   "source": [
    "model =tf.keras.Sequential([\n",
    "    tf.keras.layers.Input(shape=(max_len,)),\n",
    "    tf.keras.layers.Embedding(max_words,32), # 10k words to 32D vectors\n",
    "    tf.keras.layers.SimpleRNN(64,activation='tanh'), # 64 unit for sequence processing\n",
    "    tf.keras.layers.Dense(1,activation='sigmoid')\n",
    "])\n",
    "\n",
    "print(\"Model Build Completed...\")"
   ]
  },
  {
   "cell_type": "code",
   "execution_count": 9,
   "id": "033459b8",
   "metadata": {},
   "outputs": [
    {
     "name": "stdout",
     "output_type": "stream",
     "text": [
      "Model: \"sequential\"\n",
      "_________________________________________________________________\n",
      " Layer (type)                Output Shape              Param #   \n",
      "=================================================================\n",
      " embedding (Embedding)       (None, 200, 32)           320000    \n",
      "                                                                 \n",
      " simple_rnn (SimpleRNN)      (None, 64)                6208      \n",
      "                                                                 \n",
      " dense (Dense)               (None, 1)                 65        \n",
      "                                                                 \n",
      "=================================================================\n",
      "Total params: 326,273\n",
      "Trainable params: 326,273\n",
      "Non-trainable params: 0\n",
      "_________________________________________________________________\n"
     ]
    }
   ],
   "source": [
    "model.summary()"
   ]
  },
  {
   "cell_type": "markdown",
   "id": "5c928cd6",
   "metadata": {},
   "source": [
    "#### Lets compile"
   ]
  },
  {
   "cell_type": "code",
   "execution_count": 12,
   "id": "77d94ef0",
   "metadata": {},
   "outputs": [
    {
     "name": "stdout",
     "output_type": "stream",
     "text": [
      "Model compiled Successfully\n"
     ]
    }
   ],
   "source": [
    "model.compile(\n",
    "loss = 'binary_crossentropy',\n",
    "optimizer = 'adam',\n",
    "metrics = ['accuracy']\n",
    ")\n",
    "\n",
    "print(\"Model compiled Successfully\")"
   ]
  },
  {
   "cell_type": "markdown",
   "id": "74b54850",
   "metadata": {},
   "source": [
    "#### Lets train our model"
   ]
  },
  {
   "cell_type": "code",
   "execution_count": 13,
   "id": "bdcaca76",
   "metadata": {},
   "outputs": [
    {
     "name": "stdout",
     "output_type": "stream",
     "text": [
      "Epoch 1/5\n",
      "782/782 [==============================] - 43s 54ms/step - loss: 0.6948 - accuracy: 0.5089 - val_loss: 0.6882 - val_accuracy: 0.5362\n",
      "Epoch 2/5\n",
      "782/782 [==============================] - 41s 52ms/step - loss: 0.6851 - accuracy: 0.5444 - val_loss: 0.6941 - val_accuracy: 0.5092\n",
      "Epoch 3/5\n",
      "782/782 [==============================] - 43s 55ms/step - loss: 0.6466 - accuracy: 0.5890 - val_loss: 0.7299 - val_accuracy: 0.5084\n",
      "Epoch 4/5\n",
      "782/782 [==============================] - 44s 56ms/step - loss: 0.5589 - accuracy: 0.6526 - val_loss: 0.7912 - val_accuracy: 0.5082\n",
      "Epoch 5/5\n",
      "782/782 [==============================] - 41s 53ms/step - loss: 0.4809 - accuracy: 0.6984 - val_loss: 0.8568 - val_accuracy: 0.5058\n",
      "Training Completed.....\n"
     ]
    }
   ],
   "source": [
    "model.fit(x_train,y_train,epochs=5,batch_size=32,validation_data=(x_test,y_test),verbose=1)\n",
    "print(\"Training Completed.....\")"
   ]
  },
  {
   "cell_type": "markdown",
   "id": "88c7ac07",
   "metadata": {},
   "source": [
    "##### Lets Evalute the Model"
   ]
  },
  {
   "cell_type": "code",
   "execution_count": 15,
   "id": "3794fdd0",
   "metadata": {},
   "outputs": [],
   "source": [
    "test_loss,test_a = model.evaluate(x_test,y_test,verbose=0)"
   ]
  },
  {
   "cell_type": "code",
   "execution_count": 16,
   "id": "73ba3380",
   "metadata": {},
   "outputs": [
    {
     "name": "stdout",
     "output_type": "stream",
     "text": [
      "Test Loss     :  0.8567681312561035\n",
      "Test accuracy :  0.5057600140571594\n"
     ]
    }
   ],
   "source": [
    "print(\"Test Loss     : \",test_loss)\n",
    "print(\"Test accuracy : \",test_a)"
   ]
  },
  {
   "cell_type": "code",
   "execution_count": null,
   "id": "3ba347ff",
   "metadata": {},
   "outputs": [],
   "source": []
  },
  {
   "cell_type": "code",
   "execution_count": null,
   "id": "ec06daa7",
   "metadata": {},
   "outputs": [],
   "source": []
  },
  {
   "cell_type": "code",
   "execution_count": null,
   "id": "9a5190a8",
   "metadata": {},
   "outputs": [],
   "source": []
  },
  {
   "cell_type": "code",
   "execution_count": null,
   "id": "4425af12",
   "metadata": {},
   "outputs": [],
   "source": []
  },
  {
   "cell_type": "code",
   "execution_count": null,
   "id": "5bf79d85",
   "metadata": {},
   "outputs": [],
   "source": []
  },
  {
   "cell_type": "code",
   "execution_count": null,
   "id": "e7106a1e",
   "metadata": {},
   "outputs": [],
   "source": []
  },
  {
   "cell_type": "code",
   "execution_count": null,
   "id": "93c83d25",
   "metadata": {},
   "outputs": [],
   "source": []
  },
  {
   "cell_type": "code",
   "execution_count": null,
   "id": "9ff23a4d",
   "metadata": {},
   "outputs": [],
   "source": []
  },
  {
   "cell_type": "code",
   "execution_count": null,
   "id": "aa2ef3f4",
   "metadata": {},
   "outputs": [],
   "source": []
  },
  {
   "cell_type": "code",
   "execution_count": null,
   "id": "57e509d7",
   "metadata": {},
   "outputs": [],
   "source": []
  },
  {
   "cell_type": "code",
   "execution_count": null,
   "id": "8091aa56",
   "metadata": {},
   "outputs": [],
   "source": []
  },
  {
   "cell_type": "code",
   "execution_count": null,
   "id": "338d4225",
   "metadata": {},
   "outputs": [],
   "source": []
  }
 ],
 "metadata": {
  "kernelspec": {
   "display_name": "DeepLenv",
   "language": "python",
   "name": "deep"
  },
  "language_info": {
   "codemirror_mode": {
    "name": "ipython",
    "version": 3
   },
   "file_extension": ".py",
   "mimetype": "text/x-python",
   "name": "python",
   "nbconvert_exporter": "python",
   "pygments_lexer": "ipython3",
   "version": "3.8.20"
  }
 },
 "nbformat": 4,
 "nbformat_minor": 5
}
